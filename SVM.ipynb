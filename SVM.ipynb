{
 "metadata": {
  "name": "",
  "signature": "sha256:58f026f1fb1ee255441b08ed60b29e5243076ebb2de70f03437e57ec26396c49"
 },
 "nbformat": 3,
 "nbformat_minor": 0,
 "worksheets": [
  {
   "cells": [
    {
     "cell_type": "code",
     "collapsed": false,
     "input": [],
     "language": "python",
     "metadata": {},
     "outputs": []
    }
   ],
   "metadata": {}
  }
 ]
}