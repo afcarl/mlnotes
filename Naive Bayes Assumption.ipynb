{
 "metadata": {
  "name": "",
  "signature": "sha256:ee8cc7e70608368fce490e523e95b0e2b2bc686a93405b2d2da76ea56b679adc"
 },
 "nbformat": 3,
 "nbformat_minor": 0,
 "worksheets": [
  {
   "cells": [
    {
     "cell_type": "code",
     "collapsed": false,
     "input": [
      "%matplotlib inline\n",
      "import pandas as pd\n",
      "import matplotlib.pyplot as plt\n",
      "import numpy as np\n",
      "import random\n",
      "from IPython.html.widgets import interact "
     ],
     "language": "python",
     "metadata": {},
     "outputs": [],
     "prompt_number": 1
    },
    {
     "cell_type": "code",
     "collapsed": false,
     "input": [
      "@interact\n",
      "def draw_probs(purple=(1., 10.), red=(1., 10.), blue=(1., 10.), white=(1., 10.)):\n",
      "    total = purple + red + blue + white\n",
      "    \n",
      "    all_red = purple + red\n",
      "    all_blue = purple + blue\n",
      "    all_not_red = blue + white\n",
      "    \n",
      "    frac_red = all_red / total\n",
      "    frac_red_blue = purple / all_red\n",
      "    frac_not_red_blue = blue / all_not_red\n",
      "    frac_blue = all_blue / total\n",
      "    \n",
      "    plt.figure(figsize=(10,10))\n",
      "    \n",
      "    plt.subplot(2, 2, 1)\n",
      "    a = plt.gca()\n",
      "    a.add_patch(plt.Rectangle((0,0), frac_red, 1, color='#aa0000'))\n",
      "    a.add_patch(plt.Rectangle((0,0), frac_red, frac_red_blue, color='#aa00aa'))\n",
      "    a.add_patch(plt.Rectangle((frac_red,0), 1, frac_not_red_blue, color='#0000aa'))\n",
      "    plt.title('Actual Probabilities')\n",
      "    \n",
      "    plt.subplot(2, 2, 2)\n",
      "    a = plt.gca()\n",
      "    a.add_patch(plt.Rectangle((0,0), frac_red, 1, color='#aa0000'))\n",
      "    a.add_patch(plt.Rectangle((0,0), frac_red, frac_blue, color='#aa00aa'))\n",
      "    a.add_patch(plt.Rectangle((frac_red,0), 1, frac_blue, color='#0000aa'))\n",
      "    plt.title('Naive Approximation')\n",
      "    "
     ],
     "language": "python",
     "metadata": {},
     "outputs": [
      {
       "metadata": {},
       "output_type": "display_data",
       "png": "[encoded data removed]",
       "text": [
        "<matplotlib.figure.Figure at 0x1076ed410>"
       ]
      }
     ],
     "prompt_number": 39
    },
    {
     "cell_type": "code",
     "collapsed": false,
     "input": [],
     "language": "python",
     "metadata": {},
     "outputs": []
    }
   ],
   "metadata": {}
  }
 ]
}