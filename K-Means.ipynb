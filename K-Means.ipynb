{
 "metadata": {
  "name": "",
  "signature": "sha256:afea6123b3adee32b02d39c236abc813514900a8d2e1aa2074779543a5f0da11"
 },
 "nbformat": 3,
 "nbformat_minor": 0,
 "worksheets": [
  {
   "cells": [
    {
     "cell_type": "markdown",
     "metadata": {},
     "source": [
      "**K-Means** is an unsupervised clustering algorithm."
     ]
    },
    {
     "cell_type": "code",
     "collapsed": false,
     "input": [
      "%matplotlib inline\n",
      "import pandas as pd\n",
      "import matplotlib.pyplot as plt\n",
      "import numpy as np\n",
      "import random\n",
      "from IPython.html.widgets import interact "
     ],
     "language": "python",
     "metadata": {},
     "outputs": [],
     "prompt_number": 171
    },
    {
     "cell_type": "markdown",
     "metadata": {},
     "source": [
      "Load the Data\n",
      "-------------\n",
      "\n",
      "The dataset comes from the [Rdatasets](http://vincentarelbundock.github.io/Rdatasets/) archive. The numbers represent measurements done on rock samples in petrolium reservoirs. We will focus on the `area` and `peri` fields, which capture the total area and peremiter of pores, respectively. For further details see the dataset's [full documentation](http://vincentarelbundock.github.io/Rdatasets/doc/datasets/rock.html)."
     ]
    },
    {
     "cell_type": "code",
     "collapsed": false,
     "input": [
      "data = pd.read_csv('Rdatasets/csv/datasets/rock.csv', usecols=[1,2,3,4])"
     ],
     "language": "python",
     "metadata": {},
     "outputs": [],
     "prompt_number": 201
    },
    {
     "cell_type": "code",
     "collapsed": false,
     "input": [
      "data.head(5)"
     ],
     "language": "python",
     "metadata": {},
     "outputs": [
      {
       "html": [
        "<div style=\"max-height:1000px;max-width:1500px;overflow:auto;\">\n",
        "<table border=\"1\" class=\"dataframe\">\n",
        "  <thead>\n",
        "    <tr style=\"text-align: right;\">\n",
        "      <th></th>\n",
        "      <th>area</th>\n",
        "      <th>peri</th>\n",
        "      <th>shape</th>\n",
        "      <th>perm</th>\n",
        "    </tr>\n",
        "  </thead>\n",
        "  <tbody>\n",
        "    <tr>\n",
        "      <th>0</th>\n",
        "      <td> 4990</td>\n",
        "      <td> 2791.90</td>\n",
        "      <td> 0.090330</td>\n",
        "      <td>  6.3</td>\n",
        "    </tr>\n",
        "    <tr>\n",
        "      <th>1</th>\n",
        "      <td> 7002</td>\n",
        "      <td> 3892.60</td>\n",
        "      <td> 0.148622</td>\n",
        "      <td>  6.3</td>\n",
        "    </tr>\n",
        "    <tr>\n",
        "      <th>2</th>\n",
        "      <td> 7558</td>\n",
        "      <td> 3930.66</td>\n",
        "      <td> 0.183312</td>\n",
        "      <td>  6.3</td>\n",
        "    </tr>\n",
        "    <tr>\n",
        "      <th>3</th>\n",
        "      <td> 7352</td>\n",
        "      <td> 3869.32</td>\n",
        "      <td> 0.117063</td>\n",
        "      <td>  6.3</td>\n",
        "    </tr>\n",
        "    <tr>\n",
        "      <th>4</th>\n",
        "      <td> 7943</td>\n",
        "      <td> 3948.54</td>\n",
        "      <td> 0.122417</td>\n",
        "      <td> 17.1</td>\n",
        "    </tr>\n",
        "  </tbody>\n",
        "</table>\n",
        "</div>"
       ],
       "metadata": {},
       "output_type": "pyout",
       "prompt_number": 202,
       "text": [
        "   area     peri     shape  perm\n",
        "0  4990  2791.90  0.090330   6.3\n",
        "1  7002  3892.60  0.148622   6.3\n",
        "2  7558  3930.66  0.183312   6.3\n",
        "3  7352  3869.32  0.117063   6.3\n",
        "4  7943  3948.54  0.122417  17.1"
       ]
      }
     ],
     "prompt_number": 202
    },
    {
     "cell_type": "markdown",
     "metadata": {},
     "source": [
      "Visualizing\n",
      "-----------"
     ]
    },
    {
     "cell_type": "code",
     "collapsed": false,
     "input": [
      "plt.scatter(data.area, data.peri);"
     ],
     "language": "python",
     "metadata": {},
     "outputs": [
      {
       "metadata": {},
       "output_type": "display_data",
       "png": "[encoded data removed]",
       "text": [
        "<matplotlib.figure.Figure at 0x10a9478d0>"
       ]
      }
     ],
     "prompt_number": 34
    },
    {
     "cell_type": "markdown",
     "metadata": {},
     "source": [
      "Constructing a Dataset\n",
      "----------------------\n",
      "\n",
      "### Normalization"
     ]
    },
    {
     "cell_type": "code",
     "collapsed": false,
     "input": [
      "def normalize(column):\n",
      "    # subtract the mean\n",
      "    column -= np.mean(column)\n",
      "    # divide by the standard deviation\n",
      "    column /= np.std(column)\n",
      "    return column"
     ],
     "language": "python",
     "metadata": {},
     "outputs": [],
     "prompt_number": 30
    },
    {
     "cell_type": "markdown",
     "metadata": {},
     "source": [
      "Now that we have a function to normalize the columns, we can construct an array from the normalized data."
     ]
    },
    {
     "cell_type": "code",
     "collapsed": false,
     "input": [
      "points = np.column_stack([\n",
      "    normalize(data.area),\n",
      "    normalize(data.peri)\n",
      "])"
     ],
     "language": "python",
     "metadata": {},
     "outputs": [],
     "prompt_number": 39
    },
    {
     "cell_type": "markdown",
     "metadata": {},
     "source": [
      "Initialization\n",
      "--------------"
     ]
    },
    {
     "cell_type": "markdown",
     "metadata": {},
     "source": [
      "The K-means algorithm works by initializing k centroids and iteratively improving their locations. Each centroid represents one cluster; a point is simply assigned the cluster associated with the nearest centroid to it.\n",
      "\n",
      "In the simplest case, initialization happens by randomly sampling k points from the data."
     ]
    },
    {
     "cell_type": "code",
     "collapsed": false,
     "input": [
      "def initialize_kmeans(data, k):\n",
      "    return np.array(random.sample(data, k))"
     ],
     "language": "python",
     "metadata": {},
     "outputs": [],
     "prompt_number": 46
    },
    {
     "cell_type": "markdown",
     "metadata": {},
     "source": [
      "Let's start with `k = 2` and initialize the centroids."
     ]
    },
    {
     "cell_type": "code",
     "collapsed": false,
     "input": [
      "centroids = initialize_kmeans(points, 2)\n",
      "centroids"
     ],
     "language": "python",
     "metadata": {},
     "outputs": [
      {
       "metadata": {},
       "output_type": "pyout",
       "prompt_number": 55,
       "text": [
        "array([[ 0.26594076, -0.86198786],\n",
        "       [ 0.8394145 ,  0.92975675]])"
       ]
      }
     ],
     "prompt_number": 55
    },
    {
     "cell_type": "markdown",
     "metadata": {},
     "source": [
      "Distance Calculation\n",
      "--------------------\n",
      "\n",
      "K-means can be used with non-Euclidean metrics (e.g. cosine distance), but unless specified it usually uses Euclidean space, which is what we use here.\n",
      "\n",
      "Generalized to n-dimensional spaces, Euclidean distance is defined as:\n",
      "\n",
      "$$ \\sqrt{\\sum^n_{i=1} (p_{1i} - p_{2i})^2} $$"
     ]
    },
    {
     "cell_type": "code",
     "collapsed": false,
     "input": [
      "def distance(p1, p2):\n",
      "    return np.sqrt(np.sum((p1 - p2) ** 2))"
     ],
     "language": "python",
     "metadata": {},
     "outputs": [],
     "prompt_number": 53
    },
    {
     "cell_type": "code",
     "collapsed": false,
     "input": [
      "def pairwise_distance(a1, a2):\n",
      "    dists = np.zeros((a1.shape[0], a2.shape[0]))\n",
      "    for i in range(a1.shape[0]):\n",
      "        for j in range(a2.shape[0]):\n",
      "            dists[i,j] = distance(a1[i], a2[j])\n",
      "    return dists"
     ],
     "language": "python",
     "metadata": {},
     "outputs": [],
     "prompt_number": 69
    },
    {
     "cell_type": "markdown",
     "metadata": {},
     "source": [
      "Cluster Assignment\n",
      "------------------"
     ]
    },
    {
     "cell_type": "code",
     "collapsed": false,
     "input": [
      "def assign_clusters(data, centroids):\n",
      "    distances = pairwise_distance(data, centroids)\n",
      "    return distances.argmin(1)"
     ],
     "language": "python",
     "metadata": {},
     "outputs": [],
     "prompt_number": 73
    },
    {
     "cell_type": "code",
     "collapsed": false,
     "input": [
      "clusters = assign_clusters(points, centroids)\n",
      "clusters"
     ],
     "language": "python",
     "metadata": {},
     "outputs": [
      {
       "metadata": {},
       "output_type": "pyout",
       "prompt_number": 76,
       "text": [
        "array([0, 1, 1, 1, 1, 1, 1, 1, 1, 0, 1, 1, 1, 1, 1, 1, 1, 1, 1, 1, 1, 1, 1,\n",
        "       1, 0, 0, 0, 0, 0, 0, 0, 0, 0, 0, 0, 0, 0, 0, 0, 0, 0, 0, 0, 0, 0, 0,\n",
        "       0, 0])"
       ]
      }
     ],
     "prompt_number": 76
    },
    {
     "cell_type": "markdown",
     "metadata": {},
     "source": [
      "Cluster Visualization\n",
      "---------------------"
     ]
    },
    {
     "cell_type": "code",
     "collapsed": false,
     "input": [
      "def visualize_clustering(points, centroids, clusters):\n",
      "    plt.scatter(points[:,0], points[:,1], c=clusters, linewidth=0)\n",
      "    plt.scatter(centroids[:,0], centroids[:,1], marker='x', c=range(centroids.shape[1]), s=30, linewidth=3);"
     ],
     "language": "python",
     "metadata": {},
     "outputs": [],
     "prompt_number": 163
    },
    {
     "cell_type": "code",
     "collapsed": false,
     "input": [
      "visualize_clustering(points, centroids, clusters)"
     ],
     "language": "python",
     "metadata": {},
     "outputs": [
      {
       "metadata": {},
       "output_type": "display_data",
       "png": "[encoded data removed]",
       "text": [
        "<matplotlib.figure.Figure at 0x10a2daf50>"
       ]
      }
     ],
     "prompt_number": 164
    },
    {
     "cell_type": "markdown",
     "metadata": {},
     "source": [
      "Iteration\n",
      "---------"
     ]
    },
    {
     "cell_type": "code",
     "collapsed": false,
     "input": [
      "def move_centroids(points, clusters):\n",
      "    k = np.max(clusters) + 1\n",
      "    centroids = np.zeros((k, points.shape[1]))\n",
      "    for i in range(k):\n",
      "        centroids[i,:] = points[np.where(clusters == i)].mean(0)\n",
      "    return centroids"
     ],
     "language": "python",
     "metadata": {},
     "outputs": [],
     "prompt_number": 162
    },
    {
     "cell_type": "code",
     "collapsed": false,
     "input": [
      "centroids = move_centroids(points, clusters)\n",
      "clusters = assign_clusters(points, centroids)"
     ],
     "language": "python",
     "metadata": {},
     "outputs": [],
     "prompt_number": 168
    },
    {
     "cell_type": "code",
     "collapsed": false,
     "input": [
      "visualize_clustering(points, centroids, clusters)"
     ],
     "language": "python",
     "metadata": {},
     "outputs": [
      {
       "metadata": {},
       "output_type": "display_data",
       "png": "[encoded data removed]",
       "text": [
        "<matplotlib.figure.Figure at 0x10a940b10>"
       ]
      }
     ],
     "prompt_number": 169
    },
    {
     "cell_type": "code",
     "collapsed": false,
     "input": [
      "def iterate_kmeans(points, centroids):\n",
      "    clusters = assign_clusters(points, centroids)\n",
      "    centroids = move_centroids(points, clusters)\n",
      "    return centroids"
     ],
     "language": "python",
     "metadata": {},
     "outputs": [],
     "prompt_number": 170
    },
    {
     "cell_type": "code",
     "collapsed": false,
     "input": [
      "def animate_kmeans(points, k):\n",
      "    centroids = list()\n",
      "    clusters = list()\n",
      "    \n",
      "    centroids.append(initialize_kmeans(points, k))\n",
      "    \n",
      "    i = 0\n",
      "    while True:\n",
      "        clusters.append(assign_clusters(points, centroids[i]))\n",
      "        if len(clusters) > 1 and np.array_equal(clusters[-1], clusters[-2]):\n",
      "            break\n",
      "        centroids.append(move_centroids(points, clusters[i]))\n",
      "        i += 1\n",
      "    \n",
      "    @interact\n",
      "    def animate_function(iteration=(0, len(clusters)-1)):\n",
      "        visualize_clustering(points, centroids[iteration], clusters[iteration])"
     ],
     "language": "python",
     "metadata": {},
     "outputs": [],
     "prompt_number": 197
    },
    {
     "cell_type": "code",
     "collapsed": false,
     "input": [
      "animate_kmeans(points, 2)"
     ],
     "language": "python",
     "metadata": {},
     "outputs": [
      {
       "metadata": {},
       "output_type": "display_data",
       "png": "[encoded data removed]",
       "text": [
        "<matplotlib.figure.Figure at 0x10ae66ed0>"
       ]
      }
     ],
     "prompt_number": 200
    },
    {
     "cell_type": "code",
     "collapsed": false,
     "input": [],
     "language": "python",
     "metadata": {},
     "outputs": []
    }
   ],
   "metadata": {}
  }
 ]
}