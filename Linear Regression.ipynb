{
 "metadata": {
  "name": "",
  "signature": "sha256:62265573ca0e58b0f3d61a74c7b23c6cc2f5ab7b25e76ca71858080e419be178"
 },
 "nbformat": 3,
 "nbformat_minor": 0,
 "worksheets": [
  {
   "cells": [
    {
     "cell_type": "code",
     "collapsed": false,
     "input": [
      "%matplotlib inline\n",
      "import pandas as pd\n",
      "import matplotlib.pyplot as plt\n",
      "import numpy as np\n",
      "import random\n",
      "from IPython.html.widgets import interact"
     ],
     "language": "python",
     "metadata": {},
     "outputs": [],
     "prompt_number": 1
    },
    {
     "cell_type": "code",
     "collapsed": false,
     "input": [
      "data = pd.read_csv('Rdatasets/csv/datasets/mtcars.csv')"
     ],
     "language": "python",
     "metadata": {},
     "outputs": [],
     "prompt_number": 15
    },
    {
     "cell_type": "code",
     "collapsed": false,
     "input": [
      "plt.scatter(data.mpg, data.wt);"
     ],
     "language": "python",
     "metadata": {},
     "outputs": [
      {
       "metadata": {},
       "output_type": "display_data",
       "png": "[encoded data removed]",
       "text": [
        "<matplotlib.figure.Figure at 0x108a5f8d0>"
       ]
      }
     ],
     "prompt_number": 17
    },
    {
     "cell_type": "code",
     "collapsed": false,
     "input": [
      "def predict(slope, intercept, x):\n",
      "    return intercept + slope * x"
     ],
     "language": "python",
     "metadata": {},
     "outputs": [],
     "prompt_number": 20
    },
    {
     "cell_type": "markdown",
     "metadata": {},
     "source": [
      "The cost function is:\n",
      "\n",
      "$$ \\sum^m_{i=1} (\\mathrm{intercept} + \\mathrm{slope} \\times x_i - y_i) ^ 2 $$"
     ]
    },
    {
     "cell_type": "code",
     "collapsed": false,
     "input": [
      "def cost_function(slope, intercept, data_x, data_y):\n",
      "    cost = 0.\n",
      "    for x, y in zip(data_x, data_y):\n",
      "        cost += (predict(slope, intercept, x) - y) ** 2\n",
      "    return cost"
     ],
     "language": "python",
     "metadata": {},
     "outputs": [],
     "prompt_number": 23
    },
    {
     "cell_type": "markdown",
     "metadata": {},
     "source": [
      "$$\n",
      "\\triangledown{\\mathrm{intercept}} = \\sum^m_{i=1} \n",
      "$$"
     ]
    },
    {
     "cell_type": "code",
     "collapsed": false,
     "input": [
      "def cost_gradient_function(slope, intercept, data_x, data_y):\n",
      "    slope_gradient = 0.\n",
      "    intercept_gradient = 0.\n",
      "    for x, y in zip(data_x, data_y):\n",
      "        slope_gradient += 2 * x * (slope * x + intercept - y)\n",
      "        intercept_gradient += 2 * slope * x + 2 * intercept - 2 * y\n",
      "    return (slope_gradient, intercept_gradient)"
     ],
     "language": "python",
     "metadata": {},
     "outputs": [],
     "prompt_number": 51
    },
    {
     "cell_type": "code",
     "collapsed": false,
     "input": [
      "def gradient_descent(data_x, data_y, learning_rate=4e-5, slope_init=0., intercept_init=0.):\n",
      "    slope = slope_init\n",
      "    intercept = intercept_init\n",
      "    for i in range(30000):\n",
      "        slope_gradient, intercept_gradient = cost_gradient_function(slope, intercept, data_x, data_y)\n",
      "        slope -= slope_gradient * learning_rate\n",
      "        intercept -= intercept_gradient * learning_rate\n",
      "    return slope, intercept"
     ],
     "language": "python",
     "metadata": {},
     "outputs": [],
     "prompt_number": 127
    },
    {
     "cell_type": "code",
     "collapsed": false,
     "input": [
      "slope, intercept = gradient_descent(data.mpg, data.wt)"
     ],
     "language": "python",
     "metadata": {},
     "outputs": [],
     "prompt_number": 129
    },
    {
     "cell_type": "code",
     "collapsed": false,
     "input": [
      "plt.scatter(data.mpg, data.wt)\n",
      "plt.plot([10, 35], [intercept + slope * 10, intercept + slope * 35])"
     ],
     "language": "python",
     "metadata": {},
     "outputs": [
      {
       "metadata": {},
       "output_type": "pyout",
       "prompt_number": 132,
       "text": [
        "[<matplotlib.lines.Line2D at 0x10b5a8b90>]"
       ]
      },
      {
       "metadata": {},
       "output_type": "display_data",
       "png": "[encoded data removed]",
       "text": [
        "<matplotlib.figure.Figure at 0x10b5a8a50>"
       ]
      }
     ],
     "prompt_number": 132
    },
    {
     "cell_type": "code",
     "collapsed": false,
     "input": [],
     "language": "python",
     "metadata": {},
     "outputs": []
    }
   ],
   "metadata": {}
  }
 ]
}